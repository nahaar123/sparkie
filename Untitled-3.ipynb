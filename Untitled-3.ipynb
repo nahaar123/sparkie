{
 "cells": [
  {
   "cell_type": "code",
   "execution_count": null,
   "metadata": {},
   "outputs": [],
   "source": [
    "name - tony stark\n",
    "age = 51\n",
    "print(name)\n",
    "print(age)\n",
    "print(\"Tony is a genius\")"
   ]
  }
 ],
 "metadata": {
  "language_info": {
   "name": "python"
  }
 },
 "nbformat": 4,
 "nbformat_minor": 2
}
